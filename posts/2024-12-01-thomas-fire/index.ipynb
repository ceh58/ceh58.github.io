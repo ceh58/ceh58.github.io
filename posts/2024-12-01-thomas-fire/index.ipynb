{
 "cells": [
  {
   "cell_type": "raw",
   "id": "2676c0cc-0e66-4315-acb8-6b2ddbe595b9",
   "metadata": {},
   "source": [
    "---\n",
    "title: \"Analyzing the Impact of the Thomas Fire in Python\"\n",
    "author:\n",
    "  - name: Carmen Hoyt\n",
    "    url: https://ceh58.github.io/\n",
    "    affiliation: Master of Environmental Data Science Program @ The Bren School (UCSB)\n",
    "    affiliation-url: https://ucsb-meds.github.io/ \n",
    "date: last-modified\n",
    "categories: [Python, EDS220, Landsat]\n",
    "toc: true\n",
    "image: thomas-fire.jpg\n",
    "draft: false \n",
    "editor_options: \n",
    "  chunk_output_type: console\n",
    "---"
   ]
  },
  {
   "cell_type": "markdown",
   "id": "509d924c-3500-4d10-9b00-e2ac6061d398",
   "metadata": {},
   "source": [
    "![Fire](thomas-fire.jpg)"
   ]
  },
  {
   "cell_type": "markdown",
   "id": "c753dfff-4aa9-4ff0-8021-1a276b511bce",
   "metadata": {},
   "source": [
    "# About\n",
    "\n",
    "The Thomas Fire burned over 280,000 acres (about 440 square miles) across Ventura and Santa Barbara counties in December 2017, the largest wildfire in modern California history at the time. The main catalyst for the fire's rapid spread was unseasonably strong Santa Ana wind that brought warm air and low humidity. In the end, 1,063 structures were lost, over 104,607 residents were forced to leave their homes, and damages totaled over $2.2 billion. Lasting environmental effects of the fire included poor air quality and mudflows during the successive rainy season as a result of the vegetation loss[^1].\n",
    "\n",
    "[^1]: Read more about the Thomas fire [here](https://en.wikipedia.org/wiki/Thomas_Fire).\n",
    "\n",
    "The first analysis[^2] uses imagery taken by [Landsat 8](https://planetarycomputer.microsoft.com/dataset/landsat-c2-l2) on January 16, 2018 to highlight the burn scar left by the Thomas Fire after it was considered fully contained (January 12, 2018). By assigning infrared bands to visible colors (short wave infrared to 'red', near infrared to 'green', and red to 'blue'), we can easily distinguish the burn scar from the surrounding vegetation. Bare earth/dead vegetation reflects swir (short wave infrared), appearing red, and healthy vegetation reflects nir (near infrared), appearing green, in the false color image[^3]. We can then match the burn scar with the Thomas Fire perimeter, isolated from a [fire perimeters dataset](https://catalog.data.gov/dataset/california-fire-perimeters-all-b3436).\n",
    "\n",
    "[^2]: This analysis was part of EDS 220: Working with Environmental Datasets - Homework Assignment 4. See the assignment guidelines [here](https://meds-eds-220.github.io/MEDS-eds-220-course/assignments/assignment4.html).\n",
    "\n",
    "[^3]: Read more about false color imagery [here](https://earthobservatory.nasa.gov/features/FalseColor).\n",
    "\n",
    "The second analysis[^4] uses [Air Quality Index (AQI)](https://www.airnow.gov/aqi/aqi-basics/) data from the [US Environmental Protection Agency](https://www.epa.gov) to visualize the impact of the Thomas Fire on the AQI of Santa Barbara County from 2017-2018.\n",
    "\n",
    "[^4]: This analysis was part of EDS 220: Working with Environmental Datasets - Homework Assignment 2. See the assignment guidelines [here](https://meds-eds-220.github.io/MEDS-eds-220-course/assignments/assignment2.html).\n"
   ]
  },
  {
   "cell_type": "markdown",
   "id": "01391e28-407c-4128-9b3c-79bedf9a5f01",
   "metadata": {},
   "source": [
    "# Highlights\n",
    "\n",
    "Analysis 1:\n",
    "\n",
    "- This task explores assigning infrared bands to visible colors to obtain false color imagery.\n",
    "\n",
    "- Necessary steps include cleaning rasters with the `rioxarray` package as well as filtering geo-dataframes with `geopandas` package.\n",
    "\n",
    "- It is essential to match the Coordinate Reference Systems (CRSs) of shapefiles and rasters to obtain the final figure.\n",
    "\n",
    "Analysis 2:\n",
    "\n",
    "- This task uses `pandas` to wrangle dataframes.\n",
    "\n",
    "- It requires working with various datatypes, such as dates.\n",
    "\n",
    "- Using `matplotlib.pyplot`, we can create engaging visualizations!\n"
   ]
  },
  {
   "cell_type": "markdown",
   "id": "744389bb-71b7-46e8-afba-25eeb60c8875",
   "metadata": {},
   "source": [
    "# Repository \n",
    "\n",
    "More detailed information can be found on my [Thomas Fire GitHub Repository](https://github.com/ceh58/thomas-fire-analysis).\n",
    "\n",
    "#### Repository structure:\n",
    "\n",
    "```\n",
    "├── data\n",
    "│  ├── thomas_fire.cpg\n",
    "│  ├── thoams_fire.dbf\n",
    "│  ├── thomas_fire.prj\n",
    "│  ├── thomas_fire.shp\n",
    "│  └── thomas_fire.shx\n",
    "├── .gitignore\n",
    "├── README.md\n",
    "├── aqi-analysis.ipynb\n",
    "├── false-color-analysis.ipynb\n",
    "└── fire-perimeter.ipynb\n",
    "```"
   ]
  },
  {
   "cell_type": "markdown",
   "id": "e3b8e9e6-cc7a-4846-bb60-07b5af8ac5df",
   "metadata": {},
   "source": [
    "\n",
    "# Dataset Descriptions\n",
    "\n",
    "Landsat Data:\n",
    "\n",
    "The landsat dataset used in this analysis is a cleaned, simplified collection of bands (red, green, blue, nir, swir) from [Landsat Collection 2 Level-2](https://planetarycomputer.microsoft.com/dataset/landsat-c2-l2) (collected by Landsat 8 satellite) that was prepared specifically for this project. \n",
    "\n",
    "Fire Perimeters Data:\n",
    "\n",
    "The [fire perimeters dataset](https://catalog.data.gov/dataset/california-fire-perimeters-all-b3436) is an open-source dataset that contains information about the spatial distrubtion of past fires in California published by the State of California (and downloaded as a shapefile). \n",
    "\n",
    "AQI Data:\n",
    "\n",
    "This analysis directly imports the US AQI (by county) data for [2017](https://aqs.epa.gov/aqsweb/airdata/daily_aqi_by_county_2017.zip) and [2018](https://aqs.epa.gov/aqsweb/airdata/daily_aqi_by_county_2018.zip) via zip file. Both datasets will need to be filtered for Santa Barbara county.\n"
   ]
  },
  {
   "cell_type": "markdown",
   "id": "0d237c7c-e9ee-4802-8b9f-f08a1439559c",
   "metadata": {},
   "source": [
    "# Analysis\n",
    "\n",
    "#### Part 1\n",
    "\n",
    "Derived from `fire-perimeter.ipynb`.\n",
    "\n",
    "First, import all necessary packages."
   ]
  },
  {
   "cell_type": "code",
   "execution_count": null,
   "id": "e1df7a06-7572-4615-a0bb-a9b1160f3d03",
   "metadata": {},
   "outputs": [],
   "source": [
    "import os\n",
    "import pandas as pd\n",
    "import geopandas as gpd\n",
    "import xarray as xr\n",
    "import matplotlib.pyplot as plt\n",
    "import rioxarray as rioxr"
   ]
  },
  {
   "cell_type": "markdown",
   "id": "10b8f37e-0b29-4762-8fc6-bdaef31b5aef",
   "metadata": {},
   "source": [
    "Then, import the fire perimeters dataset (shapefile) and filter for the 2017 Thomas Fire. Save the filtered dataset in a format of your choice. I chose to save it as a shapefile due to its versatility and familiarity.\n",
    "\n",
    "*Note: I saved the full fire perimeters dataset in my data/ folder in a separate no_push/ folder that was added to my .gitignore due to the size of the data.*"
   ]
  },
  {
   "cell_type": "code",
   "execution_count": null,
   "id": "fdba30e3-469f-4b0b-becd-14ae29800e1f",
   "metadata": {},
   "outputs": [],
   "source": [
    "# Create filepath\n",
    "fp = os.path.join(\"data\", \"no_push\", \"California_Fire_Perimeters_(all).shp\")\n",
    "\n",
    "# Read in data\n",
    "fire_perimeter = gpd.read_file(fp)\n",
    "\n",
    "# Lower column names\n",
    "fire_perimeter.rename(columns=str.lower, inplace=True)\n",
    "\n",
    "# Select Thomas Fire boundary by filtering for name and year\n",
    "thomas_fire = fire_perimeter.loc[(fire_perimeter['fire_name'] == \"THOMAS\") & \n",
    "                                 (fire_perimeter['year_']== 2017)]\n",
    "                                 \n",
    "# Save Thomas Fire boundary as a shapefile\n",
    "thomas_fire.to_file(os.path.join(\"data\", \"thomas_fire.shp\"))"
   ]
  },
  {
   "cell_type": "markdown",
   "id": "d7f1c1e8-e7af-4396-a364-0b6e3a806ef7",
   "metadata": {},
   "source": [
    "#### Part 2\n",
    "\n",
    "Derived from `false-color-analysis.ipynb`.\n",
    "\n",
    "First, import the landsat data (which has been pre-processed and saved on the server at the given filepath: `/courses/EDS220/data/hwk4_landsat_data\", \"landsat8-2018-01-26-sb-simplified.nc`)."
   ]
  },
  {
   "cell_type": "code",
   "execution_count": null,
   "id": "0058ff68-0767-4194-b47b-0320413cf224",
   "metadata": {
    "tags": []
   },
   "outputs": [],
   "source": [
    "# Import data\n",
    "fp = os.path.join(\"/courses/EDS220/data/hwk4_landsat_data\", \"landsat8-2018-01-26-sb-simplified.nc\")\n",
    "landsat = rioxr.open_rasterio(fp)\n",
    "landsat"
   ]
  },
  {
   "cell_type": "markdown",
   "id": "f1067d8f-1599-4db6-82ea-230e97b7ab7c",
   "metadata": {},
   "source": [
    "Notice that the raster has a dimension, `band`, of size one. This dimension is not necessary, so we will use the `squeeze()` and `drop_vars()` functions to remove it. Confirm that `band` no longer appears on the list of dimensions (`landsat.dims`)."
   ]
  },
  {
   "cell_type": "code",
   "execution_count": null,
   "id": "a7439776-3a5a-444d-b676-e67f0b79fa6b",
   "metadata": {},
   "outputs": [],
   "source": [
    "# Drop the 'band' dimension\n",
    "landsat = landsat.squeeze().drop_vars('band')\n",
    "\n",
    "# Confirm 'band' was dropped\n",
    "print(landsat.dims, landsat.coords)"
   ]
  },
  {
   "cell_type": "markdown",
   "id": "d42f89ea-63b6-4f2b-a53a-9d4aca613cf9",
   "metadata": {},
   "source": [
    "Now we can plot a true color image. To do this, we must select the 'red', 'green', and 'blue' bands, in that order, and assign them to the 'red', 'green', and 'blue' colors using `.imshow()`. Since there are outliers in these data, the initial plot is black and white and gives us the following warning message:"
   ]
  },
  {
   "cell_type": "code",
   "execution_count": null,
   "id": "8dbc0396-feb7-4de9-87f6-f0ea711e3844",
   "metadata": {},
   "outputs": [],
   "source": [
    "# Select 'red', 'green', and 'blue' variables and plot\n",
    "landsat[['red', 'green', 'blue']].to_array().plot.imshow()"
   ]
  },
  {
   "cell_type": "markdown",
   "id": "7e72437c-4e3d-4ca5-a91b-2de4d205fcdb",
   "metadata": {},
   "source": [
    "In order to de-weight the outliers and properly scale each band, we will set the `robust` parameter in `.imshow()` to `True`. This produces our true color image:"
   ]
  },
  {
   "cell_type": "code",
   "execution_count": null,
   "id": "08bdb978-d563-48bd-91ea-14e8cbdfa371",
   "metadata": {},
   "outputs": [],
   "source": [
    "# Adjust the scale for a true color plot\n",
    "landsat[['red', 'green', 'blue']].to_array().plot.imshow(robust = True)"
   ]
  },
  {
   "cell_type": "markdown",
   "id": "fb96814d-9fe6-4b0c-8f45-8d2b9e41610c",
   "metadata": {},
   "source": [
    "To create our false color image, we must assign the short wave infrared band ('swir22') to the 'red' color, the near infrared band ('nir08') to the 'green' color, and 'red' band to the 'blue' color using the same function."
   ]
  },
  {
   "cell_type": "code",
   "execution_count": null,
   "id": "e2a8ec18-7c73-4d4d-9338-3488e356acf8",
   "metadata": {},
   "outputs": [],
   "source": [
    "# Create a false color image\n",
    "landsat[['swir22', 'nir08', 'red']].to_array().plot.imshow(robust = True)"
   ]
  },
  {
   "cell_type": "markdown",
   "id": "bbddc817-9f99-41e7-aa27-1faae35a43f9",
   "metadata": {},
   "source": [
    "Finally, we can create our figure.\n",
    "\n",
    "In order to do this, we must import the Thomas Fire perimeter shapefile we previously saved in Part 1, `thomas_fire.shp`. Check to see that the CRS of the shapefile matches that of the landsat data using `.crs` (from the `geopandas` package) for the shapefile and `.rio.crs` (from the `rioxarray` package) for the raster data. "
   ]
  },
  {
   "cell_type": "code",
   "execution_count": null,
   "id": "bcb89432-d066-4a58-8055-03dc3e0dcf0a",
   "metadata": {},
   "outputs": [],
   "source": [
    "# Import Thomas Fire shapefile\n",
    "thomas_fire = gpd.read_file(os.path.join(\"data\", \"thomas_fire.shp\"))\n",
    "\n",
    "# Make sure CRSs match\n",
    "if thomas_fire.crs == landsat.rio.crs:\n",
    "    print(\"CRSs match!\")\n",
    "else:\n",
    "    landsat = landsat.rio.reproject(thomas_fire.crs)\n",
    "    assert landsat.rio.crs == thomas_fire.crs\n",
    "    print(\"We matched the CRSs!\")"
   ]
  },
  {
   "cell_type": "markdown",
   "id": "63a2e559-0d34-4016-b2b0-a4a32f777145",
   "metadata": {},
   "source": [
    "To plot the image, we must create an aspect ratio to correctly display the size. The aspect ratio is the width/height. "
   ]
  },
  {
   "cell_type": "code",
   "execution_count": null,
   "id": "eafc95ad-ce2f-48fe-801a-def408ecc725",
   "metadata": {},
   "outputs": [],
   "source": [
    "# Map the false color image with the fire perimeter\n",
    "landsat_aspect_ratio = landsat.rio.width/landsat.rio.height"
   ]
  },
  {
   "cell_type": "markdown",
   "id": "cb2967a3-3a5a-41c2-8898-f645d4165412",
   "metadata": {},
   "source": [
    "Then, the figure is set up using the aspect ratio, and each figure element is plotted in sequence using the `matplotlib` package. Our final figure shows the burn scar of the Thomas Fire, displayed in red, outlined by the fire boundary. "
   ]
  },
  {
   "cell_type": "code",
   "execution_count": null,
   "id": "b73c8c08-a318-4f9f-88f8-2e18d32cbbd2",
   "metadata": {},
   "outputs": [],
   "source": [
    "# Setup figure\n",
    "fig, ax = plt.subplots(figsize = (6, 6*landsat_aspect_ratio))\n",
    "\n",
    "# Turn the axis off\n",
    "ax.axis(\"off\")\n",
    "\n",
    "# Plot the false color image on the figure\n",
    "landsat[['swir22', 'nir08', 'red']].to_array().plot.imshow(ax = ax,\n",
    "                                                        robust = True)\n",
    "\n",
    "# Add Thomas Fire shapefile as a boundary on the figure\n",
    "thomas_fire.boundary.plot(ax = ax,\n",
    "                         color = \"black\")\n",
    "\n",
    "# Add legend to the figure\n",
    "ax.legend(labels = [\"Fire Boundary\"])\n",
    "\n",
    "# Add annotation to the figure\n",
    "fig.text(0.5, 0.1,\n",
    "        'Data Source: CAL FIRE via Data.gov &  Microsof Planetary Computer data catalogue',\n",
    "         ha='center', va='center', fontsize=8, color='black', fontstyle='italic')\n",
    "\n",
    "fig.text(0.395, 0.08, \n",
    "         'Date Accessed: 11/19/24',\n",
    "         ha='right', va='center', fontsize=8, color='black', fontstyle='italic')\n",
    "\n",
    "# Add title\n",
    "ax.set_title(\"Thomas Fire Scar (2017)\", fontsize=14, fontweight='bold')\n",
    "\n",
    "plt.show()"
   ]
  },
  {
   "cell_type": "markdown",
   "id": "6933a711-4faf-4ca9-a561-0477ed75403a",
   "metadata": {},
   "source": [
    "#### Part 3\n",
    "\n",
    "Derived from `aqi-analysis.ipynb`.\n",
    "\n",
    "First, Next, read in the data from the links and concat (stack) the dataframes. Then, clean the column names."
   ]
  },
  {
   "cell_type": "code",
   "execution_count": null,
   "id": "449785c3-6f7b-4183-bc82-71d7c351bd20",
   "metadata": {},
   "outputs": [],
   "source": [
    "# Read in data\n",
    "aqi_17 = pd.read_csv(\"https://aqs.epa.gov/aqsweb/airdata/daily_aqi_by_county_2017.zip\", compression = 'zip')\n",
    "aqi_18 = pd.read_csv(\"https://aqs.epa.gov/aqsweb/airdata/daily_aqi_by_county_2018.zip\", compression = 'zip')\n",
    "\n",
    "# Concat the two data frames\n",
    "aqi = pd.concat([aqi_17, aqi_18])\n",
    "\n",
    "# Simplify column names\n",
    "aqi.columns = (aqi.columns\n",
    "                  .str.lower()\n",
    "                  .str.replace(' ','_'))"
   ]
  },
  {
   "cell_type": "markdown",
   "id": "a99667d2-a1da-4d24-a957-1c21df40d2c0",
   "metadata": {},
   "source": [
    "Filter for county \"Santa Barbara,\" and remove the `state_name`, `county_name`, `state_code`, and `county_code` columns."
   ]
  },
  {
   "cell_type": "code",
   "execution_count": null,
   "id": "8a7e57b7-29bb-40bb-af75-97d85020a220",
   "metadata": {},
   "outputs": [],
   "source": [
    "# Select only data from Santa Barbara County\n",
    "aqi_sb = aqi[aqi['county_name'] == \"Santa Barbara\"]\n",
    "\n",
    "# Remove specified columns\n",
    "aqi_sb = aqi_sb.drop(columns = ['state_name', 'county_name', 'state_code', 'county_code'])"
   ]
  },
  {
   "cell_type": "markdown",
   "id": "14e2d1e5-e5e8-4b6c-8f8e-ead5a8083dc7",
   "metadata": {},
   "source": [
    "Update the `date` column to `datetime` object, and then set it as the index."
   ]
  },
  {
   "cell_type": "code",
   "execution_count": null,
   "id": "13488ae3-8ad0-4aad-b88e-a8d441a4c375",
   "metadata": {},
   "outputs": [],
   "source": [
    "# Update `date` to datetime object\n",
    "aqi_sb.date = pd.to_datetime(aqi_sb.date)\n",
    "\n",
    "# Update the index to be the date column\n",
    "aqi_sb = aqi_sb.set_index('date')"
   ]
  },
  {
   "cell_type": "markdown",
   "id": "76b19626-3163-4c08-9f50-6be13b83a380",
   "metadata": {},
   "source": [
    "Calculate the 5-day rolling mean, and add it as a new column."
   ]
  },
  {
   "cell_type": "code",
   "execution_count": null,
   "id": "5800dacc-cf43-4d73-abee-55b70cc0874e",
   "metadata": {},
   "outputs": [],
   "source": [
    "# Add AQI 5-day rolling mean to `aqi_sb` data frame\n",
    "aqi_sb['five_day_average'] = aqi_sb['aqi'].rolling('5D').mean()"
   ]
  },
  {
   "cell_type": "markdown",
   "id": "da2f6f15-6e1e-49f4-b836-a01539c8b35e",
   "metadata": {},
   "source": [
    "Plot the AQI for Santa Barbara county 2017-2018."
   ]
  },
  {
   "cell_type": "code",
   "execution_count": null,
   "id": "196a33ab-e296-4da1-82f5-730f39d6af28",
   "metadata": {},
   "outputs": [],
   "source": [
    "# Plot AQI and AQI rolling mean \n",
    "aqi_sb.drop(columns = 'number_of_sites_reporting').plot.line(y = ['aqi', 'five_day_average'])\n",
    "\n",
    "# Add title\n",
    "plt.title(\"AQI in Santa Barbara County 2017-2018\")\n",
    "\n",
    "# Label x-axis\n",
    "plt.xlabel(\"Date\")\n",
    "\n",
    "# Label y-axis\n",
    "plt.ylabel(\"AQI\")\n",
    "\n",
    "# Add legend\n",
    "plt.legend(['AQI', 'Five Day Average'])"
   ]
  },
  {
   "cell_type": "markdown",
   "id": "248a007d-ca29-49be-9f1d-f3bb0d1b0240",
   "metadata": {},
   "source": [
    "Our graph clearly shows a spike in AQI at the time of the Thomas Fire.\n",
    "\n",
    "# References\n",
    "\n",
    "Landsat data:\n",
    "\n",
    "Landsat Collection 2 Level-2, Microsoft Open Source, Matt McFarland, Rob Emanuele, Dan Morris, & Tom Augspurger. (2022). microsoft/PlanetaryComputer: October 2022 (2022.10.28). Zenodo. [https://planetarycomputer.microsoft.com/dataset/landsat-c2-l2](https://planetarycomputer.microsoft.com/dataset/landsat-c2-l2) Accessed: November 19, 2024\n",
    "\n",
    "Fire perimeter data:\n",
    "\n",
    "State of California, Kimberly Wallin. (2024). CAL FIRE: May 2024 (2024.05.14). [https://catalog.data.gov/dataset/california-fire-perimeters-all-b3436](https://catalog.data.gov/dataset/california-fire-perimeters-all-b3436) Accessed: November 19, 2024\n",
    "\n",
    "AQI Data:\n",
    "\n",
    "U.S. Enivornmental Protection Agency. (2024). Air Quality Index Daily Values Report: July 2024 (2024.07.23). [https://www.epa.gov/outdoor-air-quality-data/air-quality-index-daily-values-report](https://www.epa.gov/outdoor-air-quality-data/air-quality-index-daily-values-report) Accessed: October 22, 2024\n"
   ]
  }
 ],
 "metadata": {
  "kernelspec": {
   "display_name": "Anaconda 3 (EDS220)",
   "language": "python",
   "name": "eds220-env"
  },
  "language_info": {
   "codemirror_mode": {
    "name": "ipython",
    "version": 3
   },
   "file_extension": ".py",
   "mimetype": "text/x-python",
   "name": "python",
   "nbconvert_exporter": "python",
   "pygments_lexer": "ipython3",
   "version": "3.11.4"
  }
 },
 "nbformat": 4,
 "nbformat_minor": 5
}
